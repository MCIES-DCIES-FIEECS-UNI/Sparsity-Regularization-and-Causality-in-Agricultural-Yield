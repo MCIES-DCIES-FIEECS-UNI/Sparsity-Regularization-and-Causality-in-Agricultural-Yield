{
  "nbformat": 4,
  "nbformat_minor": 0,
  "metadata": {
    "colab": {
      "provenance": []
    },
    "kernelspec": {
      "name": "python3",
      "display_name": "Python 3"
    },
    "language_info": {
      "name": "python"
    }
  },
  "cells": [
    {
      "cell_type": "markdown",
      "source": [
        "# Crop Yield Prediction with XGBoost"
      ],
      "metadata": {
        "id": "v64kMpHf0sAm"
      }
    },
    {
      "cell_type": "markdown",
      "source": [
        "## Load Packages"
      ],
      "metadata": {
        "id": "RRLfbdUwxanM"
      }
    },
    {
      "cell_type": "code",
      "execution_count": null,
      "metadata": {
        "id": "rS0-hpqS4JQg"
      },
      "outputs": [],
      "source": [
        "import numpy as np  # Import NumPy for numerical operations\n",
        "import pandas as pd  # Import Pandas for data manipulation\n",
        "import matplotlib.pyplot as plt  # Import Matplotlib for data visualization\n",
        "from sklearn.model_selection import train_test_split  # Import function to split data into training and testing sets\n",
        "import xgboost as xgb  # Import XGBoost for building gradient boosting models\n",
        "from sklearn.model_selection import GridSearchCV, KFold  # Import GridSearchCV for hyperparameter tuning and KFold for cross-validation\n",
        "from sklearn.metrics import mean_squared_error  # Import function to evaluate model performance using MSE"
      ]
    },
    {
      "cell_type": "code",
      "source": [
        "Data = pd.read_csv('DataFinal_Agro.csv')\n",
        "Data.head()"
      ],
      "metadata": {
        "id": "n--iTSQm8k6y"
      },
      "execution_count": null,
      "outputs": []
    },
    {
      "cell_type": "markdown",
      "source": [
        "## Inputation"
      ],
      "metadata": {
        "id": "mNOyKzTf6fDg"
      }
    },
    {
      "cell_type": "code",
      "source": [
        "columnas_a_imputar = ['P211_1', 'P211_2', 'P211_4', 'P212', 'P213', 'P214']"
      ],
      "metadata": {
        "id": "wpyR_XJA7eSs"
      },
      "execution_count": null,
      "outputs": []
    },
    {
      "cell_type": "code",
      "source": [
        "for col in columnas_a_imputar:\n",
        "    Data[col].fillna(Data[col].mode()[0], inplace=True)"
      ],
      "metadata": {
        "colab": {
          "base_uri": "https://localhost:8080/"
        },
        "id": "Q8KOZJuw5Kka",
        "outputId": "a1fc18a9-2c1e-44d5-f589-407913790ef3",
        "collapsed": true
      },
      "execution_count": null,
      "outputs": [
        {
          "output_type": "stream",
          "name": "stderr",
          "text": [
            "<ipython-input-7-afc02f4f86d6>:2: FutureWarning: A value is trying to be set on a copy of a DataFrame or Series through chained assignment using an inplace method.\n",
            "The behavior will change in pandas 3.0. This inplace method will never work because the intermediate object on which we are setting values always behaves as a copy.\n",
            "\n",
            "For example, when doing 'df[col].method(value, inplace=True)', try using 'df.method({col: value}, inplace=True)' or df[col] = df[col].method(value) instead, to perform the operation inplace on the original object.\n",
            "\n",
            "\n",
            "  Data[col].fillna(Data[col].mode()[0], inplace=True)\n",
            "<ipython-input-7-afc02f4f86d6>:2: FutureWarning: A value is trying to be set on a copy of a DataFrame or Series through chained assignment using an inplace method.\n",
            "The behavior will change in pandas 3.0. This inplace method will never work because the intermediate object on which we are setting values always behaves as a copy.\n",
            "\n",
            "For example, when doing 'df[col].method(value, inplace=True)', try using 'df.method({col: value}, inplace=True)' or df[col] = df[col].method(value) instead, to perform the operation inplace on the original object.\n",
            "\n",
            "\n",
            "  Data[col].fillna(Data[col].mode()[0], inplace=True)\n",
            "<ipython-input-7-afc02f4f86d6>:2: FutureWarning: A value is trying to be set on a copy of a DataFrame or Series through chained assignment using an inplace method.\n",
            "The behavior will change in pandas 3.0. This inplace method will never work because the intermediate object on which we are setting values always behaves as a copy.\n",
            "\n",
            "For example, when doing 'df[col].method(value, inplace=True)', try using 'df.method({col: value}, inplace=True)' or df[col] = df[col].method(value) instead, to perform the operation inplace on the original object.\n",
            "\n",
            "\n",
            "  Data[col].fillna(Data[col].mode()[0], inplace=True)\n"
          ]
        }
      ]
    },
    {
      "cell_type": "markdown",
      "source": [
        "## Feature Engineering"
      ],
      "metadata": {
        "id": "VDEWpvhwyqTY"
      }
    },
    {
      "cell_type": "code",
      "source": [
        "VarUtilizadas = [\n",
        "'NDVI_S_0',\n",
        " 'NDVI_S_1',\n",
        " 'NDVI_S_2',\n",
        " 'NDVI_S_3',\n",
        " 'NDVI_S_4',\n",
        " 'NDVI_S_5',\n",
        " 'NDVI_S_6',\n",
        " 'NDVI_S_7',\n",
        " 'NDVI_S_8',\n",
        " 'NDVI_S_9',\n",
        " 'NDVI_S_10',\n",
        " 'NDVI_S_11',\n",
        " 'NDVI_S_12',\n",
        " 'TEMP_S_0',\n",
        " 'TEMP_S_1',\n",
        " 'TEMP_S_2',\n",
        " 'TEMP_S_3',\n",
        " 'TEMP_S_4',\n",
        " 'TEMP_S_5',\n",
        " 'TEMP_S_6',\n",
        " 'TEMP_S_7',\n",
        " 'TEMP_S_8',\n",
        " 'TEMP_S_9',\n",
        " 'TEMP_S_10',\n",
        " 'TEMP_S_11',\n",
        " 'TEMP_S_12',\n",
        " 'PREC_S_0',\n",
        " 'PREC_S_1',\n",
        " 'PREC_S_2',\n",
        " 'PREC_S_3',\n",
        " 'PREC_S_4',\n",
        " 'PREC_S_5',\n",
        " 'PREC_S_6',\n",
        " 'PREC_S_7',\n",
        " 'PREC_S_8',\n",
        " 'PREC_S_9',\n",
        " 'PREC_S_10',\n",
        " 'PREC_S_11',\n",
        " 'PREC_S_12',\n",
        " 'NDVI_VEL_1',\n",
        " 'TEMP_VEL_1',\n",
        " 'PREC_VEL_1',\n",
        " 'NDVI_VEL_2',\n",
        " 'TEMP_VEL_2',\n",
        " 'PREC_VEL_2',\n",
        " 'NDVI_VEL_3',\n",
        " 'TEMP_VEL_3',\n",
        " 'PREC_VEL_3',\n",
        " 'NDVI_VEL_4',\n",
        " 'TEMP_VEL_4',\n",
        " 'PREC_VEL_4',\n",
        " 'NDVI_VEL_5',\n",
        " 'TEMP_VEL_5',\n",
        " 'PREC_VEL_5',\n",
        " 'NDVI_VEL_6',\n",
        " 'TEMP_VEL_6',\n",
        " 'PREC_VEL_6',\n",
        " 'NDVI_VEL_7',\n",
        " 'TEMP_VEL_7',\n",
        " 'PREC_VEL_7',\n",
        " 'NDVI_VEL_8',\n",
        " 'TEMP_VEL_8',\n",
        " 'PREC_VEL_8',\n",
        " 'NDVI_VEL_9',\n",
        " 'TEMP_VEL_9',\n",
        " 'PREC_VEL_9',\n",
        " 'NDVI_VEL_10',\n",
        " 'TEMP_VEL_10',\n",
        " 'PREC_VEL_10',\n",
        " 'NDVI_VEL_11',\n",
        " 'TEMP_VEL_11',\n",
        " 'PREC_VEL_11',\n",
        " 'NDVI_VEL_12',\n",
        " 'TEMP_VEL_12',\n",
        " 'PREC_VEL_12',\n",
        " 'NDVI_ACEL_1',\n",
        " 'TEMP_ACEL_1',\n",
        " 'PREC_ACEL_1',\n",
        " 'NDVI_ACEL_2',\n",
        " 'TEMP_ACEL_2',\n",
        " 'PREC_ACEL_2',\n",
        " 'NDVI_ACEL_3',\n",
        " 'TEMP_ACEL_3',\n",
        " 'PREC_ACEL_3',\n",
        " 'NDVI_ACEL_4',\n",
        " 'TEMP_ACEL_4',\n",
        " 'PREC_ACEL_4',\n",
        " 'NDVI_ACEL_5',\n",
        " 'TEMP_ACEL_5',\n",
        " 'PREC_ACEL_5',\n",
        " 'NDVI_ACEL_6',\n",
        " 'TEMP_ACEL_6',\n",
        " 'PREC_ACEL_6',\n",
        " 'NDVI_ACEL_7',\n",
        " 'TEMP_ACEL_7',\n",
        " 'PREC_ACEL_7',\n",
        " 'NDVI_ACEL_8',\n",
        " 'TEMP_ACEL_8',\n",
        " 'PREC_ACEL_8',\n",
        " 'NDVI_ACEL_9',\n",
        " 'TEMP_ACEL_9',\n",
        " 'PREC_ACEL_9',\n",
        " 'NDVI_ACEL_10',\n",
        " 'TEMP_ACEL_10',\n",
        " 'PREC_ACEL_10',\n",
        " 'NDVI_ACEL_11',\n",
        " 'TEMP_ACEL_11',\n",
        " 'PREC_ACEL_11',\n",
        " 'Rendimiento_T_ha'\n",
        "]"
      ],
      "metadata": {
        "id": "6M92QZsToADe"
      },
      "execution_count": null,
      "outputs": []
    },
    {
      "cell_type": "code",
      "source": [
        "categorical_cols = ['CCDD', 'P211_1', 'P211_2', 'P211_4', 'P212', 'P213', 'P214']\n",
        "existing_cols = [col for col in categorical_cols if col in Data.columns]\n",
        "\n",
        "#Convert to string to avoid errors\n",
        "Data[existing_cols] = Data[existing_cols].astype(str)\n",
        "\n",
        "categorical_cols = ['CCDD','P211_1', 'P211_2', 'P211_4', 'P212', 'P213', 'P214']\n",
        "dummies = pd.get_dummies(Data[categorical_cols], prefix=categorical_cols, drop_first=True)"
      ],
      "metadata": {
        "id": "yKDTEfdvnAgW"
      },
      "execution_count": null,
      "outputs": []
    },
    {
      "cell_type": "code",
      "source": [
        "VarUtilizadas.remove('Rendimiento_T_ha')\n",
        "otras_Var = VarUtilizadas.copy()"
      ],
      "metadata": {
        "id": "XRKdTUAvDqDI"
      },
      "execution_count": null,
      "outputs": []
    },
    {
      "cell_type": "code",
      "source": [
        "DataR = pd.concat([Data[otras_Var],dummies, Data['Rendimiento_T_ha']], axis = 1)\n",
        "DataR"
      ],
      "metadata": {
        "id": "vm4VucnVmYmk"
      },
      "execution_count": null,
      "outputs": []
    },
    {
      "cell_type": "markdown",
      "source": [
        "## Split Data"
      ],
      "metadata": {
        "id": "rMqnlan4y8tQ"
      }
    },
    {
      "cell_type": "code",
      "source": [
        "## SPLIT THE DATA INTO TRAINING AND TEST SETS\n",
        "import pandas as pd\n",
        "from sklearn.model_selection import train_test_split\n",
        "\n",
        "# Define predictor variables (X) and target variable (y)\n",
        "X = DataR.drop(columns=['Rendimiento_T_ha'])  # Predictor variables\n",
        "y = DataR['Rendimiento_T_ha']  # Target variable\n",
        "\n",
        "# Split into 90% training and 10% test\n",
        "X_train, X_test, y_train, y_test = train_test_split(X, y, test_size=0.1, random_state=42)\n",
        "\n",
        "# Create training and test DataFrames\n",
        "Data_Training = pd.concat([X_train, y_train], axis=1)\n",
        "Data_Test = pd.concat([X_test, y_test], axis=1)\n",
        "\n",
        "# Display dimensions\n",
        "print(f\"Training Data: {Data_Training.shape}\")\n",
        "print(f\"Test Data: {Data_Test.shape}\")"
      ],
      "metadata": {
        "colab": {
          "base_uri": "https://localhost:8080/"
        },
        "id": "r5Bk_QdbnG8N",
        "outputId": "f2a7ffb1-c1d6-4c4e-c97b-f446e14325f2"
      },
      "execution_count": null,
      "outputs": [
        {
          "output_type": "stream",
          "name": "stdout",
          "text": [
            "Data de Entrenamiento: (313, 129)\n",
            "Data de Test: (35, 129)\n"
          ]
        }
      ]
    },
    {
      "cell_type": "markdown",
      "source": [
        "### Export Data"
      ],
      "metadata": {
        "id": "JipHR7NCzBbj"
      }
    },
    {
      "cell_type": "code",
      "source": [
        "Data_Entrenamiento.to_csv('DataTrainR.csv',index = False)\n",
        "Data_Test.to_csv('DataTestR.csv', index = False)"
      ],
      "metadata": {
        "id": "X0QoSH1snXZL"
      },
      "execution_count": null,
      "outputs": []
    },
    {
      "cell_type": "code",
      "source": [
        "VarFinales = list(Data_Entrenamiento.columns)\n",
        "VarFinales.remove('Rendimiento_T_ha')"
      ],
      "metadata": {
        "id": "XfhXsQlXzNPD"
      },
      "execution_count": null,
      "outputs": []
    },
    {
      "cell_type": "code",
      "source": [
        "X = Data_Entrenamiento[VarFinales]\n",
        "y = Data_Entrenamiento['Rendimiento_T_ha']"
      ],
      "metadata": {
        "id": "rtGos0qYXSEq"
      },
      "execution_count": null,
      "outputs": []
    },
    {
      "cell_type": "markdown",
      "source": [
        "## Modeling XGBoost"
      ],
      "metadata": {
        "id": "oWHZPtwwzQ3o"
      }
    },
    {
      "cell_type": "code",
      "source": [
        "import xgboost as xgb\n",
        "from sklearn.model_selection import GridSearchCV, KFold\n",
        "from sklearn.metrics import mean_squared_error\n",
        "\n",
        "# Definir el modelo base\n",
        "model = xgb.XGBRegressor(objective=\"reg:squarederror\", eval_metric=\"rmse\", seed=42)\n",
        "\n",
        "# Definir los hiperparámetros a probar\n",
        "param_grid = {\n",
        "    'n_estimators': [50,100, 200],  # Número de árboles\n",
        "    'learning_rate': [0.01, 0.1],  # Tasa de aprendizaje\n",
        "    'max_depth': [3, 5],  # Profundidad máxima del árbol\n",
        "    'subsample': [0.8, 1.0],  # Fracción de muestras usadas en cada árbol\n",
        "    'colsample_bytree': [0.9, 1.0],  # Fracción de columnas usadas en cada árbol\n",
        "    'reg_alpha': [0.5,0.6],\n",
        "    'gamma': [0.1,0.2]\n",
        "}\n",
        "\n",
        "# Configurar validación cruzada con 3 folds\n",
        "kf = KFold(n_splits=3, shuffle=True, random_state=42)\n",
        "\n",
        "# Aplicar Grid Search con validación cruzada\n",
        "grid_search = GridSearchCV(model, param_grid, cv=kf, scoring='neg_mean_squared_error', verbose=1, n_jobs=-1)\n",
        "grid_search.fit(X, y)  # X son las variables predictoras, y es la variable objetivo\n",
        "\n",
        "# Obtener los mejores parámetros y el mejor MSE\n",
        "best_params = grid_search.best_params_\n",
        "best_mse = -grid_search.best_score_\n",
        "\n",
        "print(f\"Mejores parámetros: {best_params}\")\n",
        "print(f\"Mejor MSE: {best_mse:.4f}\")\n"
      ],
      "metadata": {
        "colab": {
          "base_uri": "https://localhost:8080/"
        },
        "id": "54wV7FomXMOw",
        "outputId": "63c4cfd9-0fa6-4398-d429-4af46070fe3d"
      },
      "execution_count": null,
      "outputs": [
        {
          "output_type": "stream",
          "name": "stdout",
          "text": [
            "Fitting 3 folds for each of 192 candidates, totalling 576 fits\n",
            "Mejores parámetros: {'colsample_bytree': 0.9, 'gamma': 0.1, 'learning_rate': 0.1, 'max_depth': 5, 'n_estimators': 50, 'reg_alpha': 0.5, 'subsample': 0.8}\n",
            "Mejor MSE: 2.7370\n"
          ]
        }
      ]
    },
    {
      "cell_type": "markdown",
      "source": [
        "## Evaluation Metric"
      ],
      "metadata": {
        "id": "3h0EXlqizZpl"
      }
    },
    {
      "cell_type": "code",
      "source": [
        "from sklearn.metrics import mean_squared_error\n",
        "\n",
        "y_predTrain = grid_search.predict(Data_Entrenamiento[VarFinales])\n",
        "print(mean_squared_error(Data_Entrenamiento['Rendimiento_T_ha'],y_predTrain))\n",
        "y_predTest = grid_search.predict(Data_Test[VarFinales])\n",
        "print(mean_squared_error(Data_Test['Rendimiento_T_ha'],y_predTest))"
      ],
      "metadata": {
        "id": "fZbyEzC-XbpX",
        "colab": {
          "base_uri": "https://localhost:8080/"
        },
        "outputId": "206f1897-826f-4f89-a783-cbfe1e19f789"
      },
      "execution_count": null,
      "outputs": [
        {
          "output_type": "stream",
          "name": "stdout",
          "text": [
            "0.21494186036502302\n",
            "2.830873164452201\n"
          ]
        }
      ]
    },
    {
      "cell_type": "markdown",
      "source": [
        "### Plot Iteration"
      ],
      "metadata": {
        "id": "Ls0l0bKSzfHu"
      }
    },
    {
      "cell_type": "code",
      "source": [
        "#X_train, X_val, y_train, y_val = train_test_split(X, y, test_size=0.2, random_state=42)\n",
        "import matplotlib.pyplot as plt\n",
        "\n",
        "X_train = Data_Entrenamiento[VarFinales]\n",
        "y_train = Data_Entrenamiento['Rendimiento_T_ha']\n",
        "X_val = Data_Test[VarFinales]\n",
        "y_val = Data_Test['Rendimiento_T_ha']\n",
        "# 2. Crear las estructuras de datos de XGBoost\n",
        "dtrain = xgb.DMatrix(X_train, label=y_train)\n",
        "dval = xgb.DMatrix(X_val, label=y_val)\n",
        "\n",
        "# 3. Configuración de parámetros\n",
        "params = {\n",
        "    \"objective\": \"reg:squarederror\",  # Regresión\n",
        "    \"eval_metric\": \"rmse\",  # RMSE (Raíz del MSE)\n",
        "    \"seed\": 42\n",
        "}\n",
        "\n",
        "# 4. Entrenar el modelo con evaluación en cada iteración\n",
        "evals_result = {}\n",
        "model = xgb.train(\n",
        "    params,\n",
        "    dtrain,\n",
        "    num_boost_round=100,  # Número de iteraciones\n",
        "    evals=[(dtrain, \"Train\"), (dval, \"Validation\")],  # Evaluación en cada iteración\n",
        "    early_stopping_rounds=10,  # Detener si no mejora en 10 iteraciones\n",
        "    evals_result=evals_result,\n",
        "    verbose_eval=True\n",
        ")\n",
        "\n",
        "# 5. Extraer RMSE (Raíz del MSE) por iteración\n",
        "train_rmse = evals_result[\"Train\"][\"rmse\"]\n",
        "val_rmse = evals_result[\"Validation\"][\"rmse\"]\n",
        "\n",
        "# Convertir RMSE a MSE (elevar al cuadrado)\n",
        "train_mse = [x**2 for x in train_rmse]\n",
        "val_mse = [x**2 for x in val_rmse]\n",
        "\n",
        "# 6. Graficar MSE por iteración\n",
        "plt.figure(figsize=(12, 5))\n",
        "plt.plot(train_mse, label=\"Train MSE\", color=\"blue\")\n",
        "plt.plot(val_mse, label=\"Validation MSE\", color=\"red\")\n",
        "plt.xlabel(\"Iteration\")\n",
        "plt.ylabel(\"MSE\")\n",
        "plt.title(\"MSE per Iteration in XGBoost\")\n",
        "plt.legend()\n",
        "plt.grid()\n",
        "\n",
        "plt.savefig(\"Iteracion.png\", dpi=300, bbox_inches='tight')\n",
        "\n",
        "\n",
        "plt.show()"
      ],
      "metadata": {
        "id": "mF2uX7zfXMRa",
        "colab": {
          "base_uri": "https://localhost:8080/",
          "height": 1000
        },
        "outputId": "c426c37f-49f0-4513-dcff-fe6c495c2969"
      },
      "execution_count": null,
      "outputs": [
        {
          "output_type": "stream",
          "name": "stdout",
          "text": [
            "[0]\tTrain-rmse:1.90965\tValidation-rmse:1.93999\n",
            "[1]\tTrain-rmse:1.57032\tValidation-rmse:1.83381\n",
            "[2]\tTrain-rmse:1.34194\tValidation-rmse:1.71573\n",
            "[3]\tTrain-rmse:1.14832\tValidation-rmse:1.63379\n",
            "[4]\tTrain-rmse:1.00060\tValidation-rmse:1.59647\n",
            "[5]\tTrain-rmse:0.87323\tValidation-rmse:1.55915\n",
            "[6]\tTrain-rmse:0.79711\tValidation-rmse:1.56062\n",
            "[7]\tTrain-rmse:0.70038\tValidation-rmse:1.55966\n",
            "[8]\tTrain-rmse:0.64145\tValidation-rmse:1.54477\n",
            "[9]\tTrain-rmse:0.56732\tValidation-rmse:1.60307\n",
            "[10]\tTrain-rmse:0.48249\tValidation-rmse:1.57901\n",
            "[11]\tTrain-rmse:0.43838\tValidation-rmse:1.56925\n",
            "[12]\tTrain-rmse:0.40366\tValidation-rmse:1.55983\n",
            "[13]\tTrain-rmse:0.36287\tValidation-rmse:1.54340\n",
            "[14]\tTrain-rmse:0.33733\tValidation-rmse:1.54307\n",
            "[15]\tTrain-rmse:0.31780\tValidation-rmse:1.52874\n",
            "[16]\tTrain-rmse:0.30260\tValidation-rmse:1.52532\n",
            "[17]\tTrain-rmse:0.28099\tValidation-rmse:1.52104\n",
            "[18]\tTrain-rmse:0.25966\tValidation-rmse:1.50866\n",
            "[19]\tTrain-rmse:0.23788\tValidation-rmse:1.50974\n",
            "[20]\tTrain-rmse:0.22919\tValidation-rmse:1.50779\n",
            "[21]\tTrain-rmse:0.21839\tValidation-rmse:1.50700\n",
            "[22]\tTrain-rmse:0.20816\tValidation-rmse:1.50535\n",
            "[23]\tTrain-rmse:0.20070\tValidation-rmse:1.49616\n",
            "[24]\tTrain-rmse:0.19779\tValidation-rmse:1.49998\n",
            "[25]\tTrain-rmse:0.19204\tValidation-rmse:1.50369\n",
            "[26]\tTrain-rmse:0.18716\tValidation-rmse:1.50119\n",
            "[27]\tTrain-rmse:0.18527\tValidation-rmse:1.50214\n",
            "[28]\tTrain-rmse:0.18294\tValidation-rmse:1.50484\n",
            "[29]\tTrain-rmse:0.18105\tValidation-rmse:1.50211\n",
            "[30]\tTrain-rmse:0.17948\tValidation-rmse:1.49970\n",
            "[31]\tTrain-rmse:0.17820\tValidation-rmse:1.49770\n",
            "[32]\tTrain-rmse:0.17750\tValidation-rmse:1.49802\n",
            "[33]\tTrain-rmse:0.17725\tValidation-rmse:1.49970\n"
          ]
        },
        {
          "output_type": "display_data",
          "data": {
            "text/plain": [
              "<Figure size 1200x500 with 1 Axes>"
            ],
            "image/png": "[encoded data removed]"
          },
          "metadata": {}
        }
      ]
    },
    {
      "cell_type": "markdown",
      "source": [
        "## Import Prediction GAM and ELASTIC-NET Models"
      ],
      "metadata": {
        "id": "sMAIhovHzjZe"
      }
    },
    {
      "cell_type": "code",
      "source": [
        "PredGAM = pd.read_csv('ModeloGAM.csv')\n",
        "PredElas = pd.read_csv('ModeloElasticNet.csv')"
      ],
      "metadata": {
        "id": "_5glGIllXMXG"
      },
      "execution_count": null,
      "outputs": []
    },
    {
      "cell_type": "code",
      "source": [
        "PredGAM = PredGAM['x'].to_numpy()\n",
        "PredElas = PredElas['lambda.min'].to_numpy()"
      ],
      "metadata": {
        "id": "JPtkCqau4kRQ"
      },
      "execution_count": null,
      "outputs": []
    },
    {
      "cell_type": "code",
      "source": [
        "plt.figure(figsize=(12, 6))\n",
        "\n",
        "# Graficar valores reales\n",
        "plt.plot(Data_Test['Rendimiento_T_ha'].to_numpy(), label=\"Valores Reales\", color=\"black\", linestyle=\"dotted\", linewidth=2)\n",
        "\n",
        "# Graficar predicciones de cada modelo\n",
        "plt.plot(PredElas, label=\"Modelo Elastic-Net\", color=\"blue\", alpha=0.7)\n",
        "plt.plot(PredGAM, label=\"Modelo GAM\", color=\"red\", alpha=0.7)\n",
        "plt.plot(y_predTest, label=\"Modelo XGBOOST\", color=\"green\", alpha=0.7)\n",
        "\n",
        "# Labels and title\n",
        "plt.xlabel(\"Sample Index\")\n",
        "plt.ylabel(\"Production Values\")\n",
        "plt.title(\"Comparison of Actual vs. Predicted Values\")\n",
        "plt.legend()\n",
        "plt.grid()\n",
        "\n",
        "plt.savefig(\"ComparaciónModelos.png\", dpi=300, bbox_inches='tight')\n",
        "# Mostrar el gráfico\n",
        "plt.show()"
      ],
      "metadata": {
        "colab": {
          "base_uri": "https://localhost:8080/",
          "height": 211
        },
        "id": "jANfriC04taN",
        "outputId": "d625a226-9f25-414a-8a63-6fb552600ee6"
      },
      "execution_count": 1,
      "outputs": [
        {
          "output_type": "error",
          "ename": "NameError",
          "evalue": "name 'plt' is not defined",
          "traceback": [
            "\u001b[0;31m---------------------------------------------------------------------------\u001b[0m",
            "\u001b[0;31mNameError\u001b[0m                                 Traceback (most recent call last)",
            "\u001b[0;32m<ipython-input-1-1f1a31b72a1c>\u001b[0m in \u001b[0;36m<cell line: 0>\u001b[0;34m()\u001b[0m\n\u001b[0;32m----> 1\u001b[0;31m \u001b[0mplt\u001b[0m\u001b[0;34m.\u001b[0m\u001b[0mfigure\u001b[0m\u001b[0;34m(\u001b[0m\u001b[0mfigsize\u001b[0m\u001b[0;34m=\u001b[0m\u001b[0;34m(\u001b[0m\u001b[0;36m12\u001b[0m\u001b[0;34m,\u001b[0m \u001b[0;36m6\u001b[0m\u001b[0;34m)\u001b[0m\u001b[0;34m)\u001b[0m\u001b[0;34m\u001b[0m\u001b[0;34m\u001b[0m\u001b[0m\n\u001b[0m\u001b[1;32m      2\u001b[0m \u001b[0;34m\u001b[0m\u001b[0m\n\u001b[1;32m      3\u001b[0m \u001b[0;31m# Graficar valores reales\u001b[0m\u001b[0;34m\u001b[0m\u001b[0;34m\u001b[0m\u001b[0m\n\u001b[1;32m      4\u001b[0m \u001b[0mplt\u001b[0m\u001b[0;34m.\u001b[0m\u001b[0mplot\u001b[0m\u001b[0;34m(\u001b[0m\u001b[0mData_Test\u001b[0m\u001b[0;34m[\u001b[0m\u001b[0;34m'Rendimiento_T_ha'\u001b[0m\u001b[0;34m]\u001b[0m\u001b[0;34m.\u001b[0m\u001b[0mto_numpy\u001b[0m\u001b[0;34m(\u001b[0m\u001b[0;34m)\u001b[0m\u001b[0;34m,\u001b[0m \u001b[0mlabel\u001b[0m\u001b[0;34m=\u001b[0m\u001b[0;34m\"Valores Reales\"\u001b[0m\u001b[0;34m,\u001b[0m \u001b[0mcolor\u001b[0m\u001b[0;34m=\u001b[0m\u001b[0;34m\"black\"\u001b[0m\u001b[0;34m,\u001b[0m \u001b[0mlinestyle\u001b[0m\u001b[0;34m=\u001b[0m\u001b[0;34m\"dotted\"\u001b[0m\u001b[0;34m,\u001b[0m \u001b[0mlinewidth\u001b[0m\u001b[0;34m=\u001b[0m\u001b[0;36m2\u001b[0m\u001b[0;34m)\u001b[0m\u001b[0;34m\u001b[0m\u001b[0;34m\u001b[0m\u001b[0m\n\u001b[1;32m      5\u001b[0m \u001b[0;34m\u001b[0m\u001b[0m\n",
            "\u001b[0;31mNameError\u001b[0m: name 'plt' is not defined"
          ]
        }
      ]
    }
  ]
}